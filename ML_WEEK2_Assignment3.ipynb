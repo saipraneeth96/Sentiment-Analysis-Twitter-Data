{
  "nbformat": 4,
  "nbformat_minor": 0,
  "metadata": {
    "colab": {
      "provenance": []
    },
    "kernelspec": {
      "name": "python3",
      "display_name": "Python 3"
    },
    "language_info": {
      "name": "python"
    }
  },
  "cells": [
    {
      "cell_type": "code",
      "source": [
        "import nltk\n",
        "from nltk.corpus import stopwords\n",
        "from nltk.tokenize import RegexpTokenizer\n",
        "from nltk.stem import PorterStemmer, WordNetLemmatizer"
      ],
      "metadata": {
        "id": "7t_MaEFpz4dA"
      },
      "execution_count": 1,
      "outputs": []
    },
    {
      "cell_type": "code",
      "source": [
        "# Download NLTK resources\n",
        "nltk.download('punkt')\n",
        "nltk.download('wordnet')\n",
        "nltk.download('stopwords')"
      ],
      "metadata": {
        "colab": {
          "base_uri": "https://localhost:8080/"
        },
        "id": "tY1If_Kzz53E",
        "outputId": "c435c197-d434-49be-f713-cd20b05b5796"
      },
      "execution_count": 16,
      "outputs": [
        {
          "output_type": "stream",
          "name": "stderr",
          "text": [
            "[nltk_data] Downloading package punkt to /root/nltk_data...\n",
            "[nltk_data]   Package punkt is already up-to-date!\n",
            "[nltk_data] Downloading package wordnet to /root/nltk_data...\n",
            "[nltk_data]   Package wordnet is already up-to-date!\n",
            "[nltk_data] Downloading package stopwords to /root/nltk_data...\n",
            "[nltk_data]   Package stopwords is already up-to-date!\n"
          ]
        },
        {
          "output_type": "execute_result",
          "data": {
            "text/plain": [
              "True"
            ]
          },
          "metadata": {},
          "execution_count": 16
        }
      ]
    },
    {
      "cell_type": "code",
      "source": [
        "# Sample text data\n",
        "text_data = [\n",
        "    \"Stemming is the process of reducing words to their base or root form\",\n",
        "    \"Lemmatization, on the other hand, aims to return the base or dictionary form of a word\",\n",
        "    \"Tokenization is the process of breaking down text into words or smaller linguistic units\"\n",
        "]"
      ],
      "metadata": {
        "id": "P6wAoTL6z-gU"
      },
      "execution_count": 11,
      "outputs": []
    },
    {
      "cell_type": "code",
      "source": [
        "\n",
        "# Initialize stemmer, lemmatizer, and tokenizer\n",
        "stemmer = PorterStemmer()\n",
        "lemmatizer = WordNetLemmatizer()\n",
        "tokenizer = RegexpTokenizer(r'\\w+')"
      ],
      "metadata": {
        "id": "HaVhkQnp35p6"
      },
      "execution_count": 19,
      "outputs": []
    },
    {
      "cell_type": "code",
      "source": [
        "# Preprocess function\n",
        "def preprocess_text(text):\n",
        "    # Tokenize text\n",
        "    tokens = tokenizer.tokenize(text.lower())  # Convert to lowercase\n",
        "    # Remove stopwords\n",
        "    stop_words = set(stopwords.words('english'))\n",
        "    tokens = [token for token in tokens if token not in stop_words]\n",
        "\n",
        "    # Stemming and Lemmatization\n",
        "    stemmed_tokens = [stemmer.stem(token) for token in tokens]\n",
        "    lemmatized_tokens = [lemmatizer.lemmatize(token) for token in tokens]\n",
        "\n",
        "    return tokens, stemmed_tokens, lemmatized_tokens"
      ],
      "metadata": {
        "id": "VHsXcaEb0Grp"
      },
      "execution_count": 20,
      "outputs": []
    },
    {
      "cell_type": "code",
      "source": [
        "# Process each text in the dataset\n",
        "for idx, text in enumerate(text_data):\n",
        "    tokens, stemmed_tokens, lemmatized_tokens = preprocess_text(text)\n",
        "\n",
        "    print(f\"Text {idx + 1}:\")\n",
        "    print(\"Original Tokens:\", tokens)\n",
        "    print(\"Stemmed Tokens:\", stemmed_tokens)\n",
        "    print(\"Lemmatized Tokens:\", lemmatized_tokens)"
      ],
      "metadata": {
        "colab": {
          "base_uri": "https://localhost:8080/"
        },
        "id": "8Z4BVwWx0YwK",
        "outputId": "136bf801-c6be-4adf-c067-0349adf7bed1"
      },
      "execution_count": 21,
      "outputs": [
        {
          "output_type": "stream",
          "name": "stdout",
          "text": [
            "Text 1:\n",
            "Original Tokens: ['stemming', 'process', 'reducing', 'words', 'base', 'root', 'form']\n",
            "Stemmed Tokens: ['stem', 'process', 'reduc', 'word', 'base', 'root', 'form']\n",
            "Lemmatized Tokens: ['stemming', 'process', 'reducing', 'word', 'base', 'root', 'form']\n",
            "Text 2:\n",
            "Original Tokens: ['lemmatization', 'hand', 'aims', 'return', 'base', 'dictionary', 'form', 'word']\n",
            "Stemmed Tokens: ['lemmat', 'hand', 'aim', 'return', 'base', 'dictionari', 'form', 'word']\n",
            "Lemmatized Tokens: ['lemmatization', 'hand', 'aim', 'return', 'base', 'dictionary', 'form', 'word']\n",
            "Text 3:\n",
            "Original Tokens: ['tokenization', 'process', 'breaking', 'text', 'words', 'smaller', 'linguistic', 'units']\n",
            "Stemmed Tokens: ['token', 'process', 'break', 'text', 'word', 'smaller', 'linguist', 'unit']\n",
            "Lemmatized Tokens: ['tokenization', 'process', 'breaking', 'text', 'word', 'smaller', 'linguistic', 'unit']\n"
          ]
        }
      ]
    }
  ]
}